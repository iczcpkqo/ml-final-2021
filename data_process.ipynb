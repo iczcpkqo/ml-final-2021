{
 "cells": [
  {
   "cell_type": "code",
   "execution_count": 1,
   "metadata": {},
   "outputs": [],
   "source": [
    "import pandas as pd\n",
    "import datetime"
   ]
  },
  {
   "cell_type": "code",
   "execution_count": 73,
   "metadata": {},
   "outputs": [
    {
     "name": "stdout",
     "output_type": "stream",
     "text": [
      "   STATION ID           TIME   LAST UPDATED NAME  BIKE STANDS  \\\n",
      "0          97  2020/1/1 6:25  2020/1/1 6:21  GAO           40   \n",
      "1          97  2020/1/1 6:30  2020/1/1 6:21  GAO           40   \n",
      "2          97  2020/1/1 6:35  2020/1/1 6:31  GAO           40   \n",
      "3          97  2020/1/1 6:40  2020/1/1 6:31  GAO           40   \n",
      "4          97  2020/1/1 6:45  2020/1/1 6:41  GAO           40   \n",
      "5          97  2020/1/1 6:50  2020/1/1 6:41  GAO           40   \n",
      "6          97  2020/1/1 6:55  2020/1/1 6:51  GAO           40   \n",
      "7          97  2020/1/1 7:00  2020/1/1 6:51  GAO           40   \n",
      "8          97  2020/1/1 7:05  2020/1/1 7:01  GAO           40   \n",
      "9          97  2020/1/1 7:10  2020/1/1 7:01  GAO           40   \n",
      "\n",
      "   AVAILABLE BIKE STANDS  AVAILABLE BIKES STATUS ADDRESS   LATITUDE  \\\n",
      "0                     26               14   Open     GAO  51.310015   \n",
      "1                     26               14   Open     GAO  51.310015   \n",
      "2                     26               14   Open     GAO  51.310015   \n",
      "3                     26               14   Open     GAO  51.310015   \n",
      "4                     26               14   Open     GAO  51.310015   \n",
      "5                     26               14   Open     GAO  51.310015   \n",
      "6                     26               14   Open     GAO  51.310015   \n",
      "7                     26               14   Open     GAO  51.310015   \n",
      "8                     26               14   Open     GAO  51.310015   \n",
      "9                     26               14   Open     GAO  51.310015   \n",
      "\n",
      "   LONGITUDE  STAND_OCCUPANCY  \n",
      "0  -0.090015             0.65  \n",
      "1  -0.090015             0.65  \n",
      "2  -0.090015             0.65  \n",
      "3  -0.090015             0.65  \n",
      "4  -0.090015             0.65  \n",
      "5  -0.090015             0.65  \n",
      "6  -0.090015             0.65  \n",
      "7  -0.090015             0.65  \n",
      "8  -0.090015             0.65  \n",
      "9  -0.090015             0.65  \n"
     ]
    }
   ],
   "source": [
    "data = pd.read_csv('GAO.csv')\n",
    "#station id =[97,9]\n",
    "data['STAND_OCCUPANCY'] = (data['BIKE STANDS'] - data['AVAILABLE BIKES'])/data['BIKE STANDS']\n",
    "print(data.head(10))"
   ]
  },
  {
   "cell_type": "code",
   "execution_count": 74,
   "metadata": {},
   "outputs": [
    {
     "name": "stdout",
     "output_type": "stream",
     "text": [
      "Index(['STATION ID', 'TIME', 'LAST UPDATED', 'NAME', 'BIKE STANDS',\n",
      "       'AVAILABLE BIKE STANDS', 'AVAILABLE BIKES', 'STATUS', 'ADDRESS',\n",
      "       'LATITUDE', 'LONGITUDE', 'STAND_OCCUPANCY'],\n",
      "      dtype='object')\n",
      "[-0.090015]\n"
     ]
    }
   ],
   "source": [
    "#print(data['TIME']+datetime.timedelta(minutes=10))\n",
    "#print(data.dtypes)\n",
    "print(data.columns)\n",
    "print(data['LONGITUDE'].unique())\n"
   ]
  },
  {
   "cell_type": "code",
   "execution_count": 75,
   "metadata": {},
   "outputs": [
    {
     "data": {
      "text/plain": [
       "STATION ID                        int64\n",
       "TIME                     datetime64[ns]\n",
       "LAST UPDATED                     object\n",
       "NAME                             object\n",
       "BIKE STANDS                       int64\n",
       "AVAILABLE BIKE STANDS             int64\n",
       "AVAILABLE BIKES                   int64\n",
       "STATUS                           object\n",
       "ADDRESS                          object\n",
       "LATITUDE                        float64\n",
       "LONGITUDE                       float64\n",
       "STAND_OCCUPANCY                 float64\n",
       "dtype: object"
      ]
     },
     "execution_count": 75,
     "metadata": {},
     "output_type": "execute_result"
    }
   ],
   "source": [
    "data['TIME'] = pd.to_datetime(data['TIME'],format='%Y/%m/%d %H:%M:%S')\n",
    "data['TIME'].head()\n",
    "data.dtypes"
   ]
  },
  {
   "cell_type": "code",
   "execution_count": 76,
   "metadata": {},
   "outputs": [
    {
     "data": {
      "text/plain": [
       "Timestamp('2020-01-01 06:35:00')"
      ]
     },
     "execution_count": 76,
     "metadata": {},
     "output_type": "execute_result"
    }
   ],
   "source": [
    "data['TIME'][0] + datetime.timedelta(minutes=10)"
   ]
  },
  {
   "cell_type": "code",
   "execution_count": 77,
   "metadata": {},
   "outputs": [
    {
     "name": "stdout",
     "output_type": "stream",
     "text": [
      "(20375, 12)\n",
      "(20375, 12)\n"
     ]
    }
   ],
   "source": [
    "data1 = data[data['STATION ID']==97]\n",
    "data2 = data[data['STATION ID']==9]\n",
    "print(data1.shape)\n",
    "print(data2.shape)\n"
   ]
  },
  {
   "cell_type": "code",
   "execution_count": 78,
   "metadata": {},
   "outputs": [
    {
     "name": "stderr",
     "output_type": "stream",
     "text": [
      "C:\\Users\\songn\\AppData\\Local\\Temp/ipykernel_18700/714820326.py:1: SettingWithCopyWarning: \n",
      "A value is trying to be set on a copy of a slice from a DataFrame.\n",
      "Try using .loc[row_indexer,col_indexer] = value instead\n",
      "\n",
      "See the caveats in the documentation: https://pandas.pydata.org/pandas-docs/stable/user_guide/indexing.html#returning-a-view-versus-a-copy\n",
      "  data1['STAND_OCCUPANCY_10'] =  data1['STAND_OCCUPANCY'].shift(2)\n",
      "C:\\Users\\songn\\AppData\\Local\\Temp/ipykernel_18700/714820326.py:2: SettingWithCopyWarning: \n",
      "A value is trying to be set on a copy of a slice from a DataFrame.\n",
      "Try using .loc[row_indexer,col_indexer] = value instead\n",
      "\n",
      "See the caveats in the documentation: https://pandas.pydata.org/pandas-docs/stable/user_guide/indexing.html#returning-a-view-versus-a-copy\n",
      "  data1['STAND_OCCUPANCY_30'] =  data1['STAND_OCCUPANCY'].shift(6)\n",
      "C:\\Users\\songn\\AppData\\Local\\Temp/ipykernel_18700/714820326.py:3: SettingWithCopyWarning: \n",
      "A value is trying to be set on a copy of a slice from a DataFrame.\n",
      "Try using .loc[row_indexer,col_indexer] = value instead\n",
      "\n",
      "See the caveats in the documentation: https://pandas.pydata.org/pandas-docs/stable/user_guide/indexing.html#returning-a-view-versus-a-copy\n",
      "  data1['STAND_OCCUPANCY_60'] =  data1['STAND_OCCUPANCY'].shift(12)\n"
     ]
    }
   ],
   "source": [
    "data1['STAND_OCCUPANCY_10'] =  data1['STAND_OCCUPANCY'].shift(2)\n",
    "data1['STAND_OCCUPANCY_30'] =  data1['STAND_OCCUPANCY'].shift(6)\n",
    "data1['STAND_OCCUPANCY_60'] =  data1['STAND_OCCUPANCY'].shift(12)\n",
    "data1 = data1.dropna(subset=['STAND_OCCUPANCY_10','STAND_OCCUPANCY_30','STAND_OCCUPANCY_60'])\n"
   ]
  },
  {
   "cell_type": "code",
   "execution_count": 79,
   "metadata": {},
   "outputs": [
    {
     "name": "stdout",
     "output_type": "stream",
     "text": [
      "(20363, 15)\n"
     ]
    }
   ],
   "source": [
    "data1.reset_index(drop=True)\n",
    "print(data1.shape)"
   ]
  },
  {
   "cell_type": "code",
   "execution_count": 80,
   "metadata": {},
   "outputs": [
    {
     "name": "stderr",
     "output_type": "stream",
     "text": [
      "C:\\Users\\songn\\AppData\\Local\\Temp/ipykernel_18700/682979691.py:1: SettingWithCopyWarning: \n",
      "A value is trying to be set on a copy of a slice from a DataFrame.\n",
      "Try using .loc[row_indexer,col_indexer] = value instead\n",
      "\n",
      "See the caveats in the documentation: https://pandas.pydata.org/pandas-docs/stable/user_guide/indexing.html#returning-a-view-versus-a-copy\n",
      "  data2['STAND_OCCUPANCY_10'] =  data2['STAND_OCCUPANCY'].shift(2)\n",
      "C:\\Users\\songn\\AppData\\Local\\Temp/ipykernel_18700/682979691.py:2: SettingWithCopyWarning: \n",
      "A value is trying to be set on a copy of a slice from a DataFrame.\n",
      "Try using .loc[row_indexer,col_indexer] = value instead\n",
      "\n",
      "See the caveats in the documentation: https://pandas.pydata.org/pandas-docs/stable/user_guide/indexing.html#returning-a-view-versus-a-copy\n",
      "  data2['STAND_OCCUPANCY_30'] =  data2['STAND_OCCUPANCY'].shift(6)\n",
      "C:\\Users\\songn\\AppData\\Local\\Temp/ipykernel_18700/682979691.py:3: SettingWithCopyWarning: \n",
      "A value is trying to be set on a copy of a slice from a DataFrame.\n",
      "Try using .loc[row_indexer,col_indexer] = value instead\n",
      "\n",
      "See the caveats in the documentation: https://pandas.pydata.org/pandas-docs/stable/user_guide/indexing.html#returning-a-view-versus-a-copy\n",
      "  data2['STAND_OCCUPANCY_60'] =  data2['STAND_OCCUPANCY'].shift(12)\n"
     ]
    }
   ],
   "source": [
    "data2['STAND_OCCUPANCY_10'] =  data2['STAND_OCCUPANCY'].shift(2)\n",
    "data2['STAND_OCCUPANCY_30'] =  data2['STAND_OCCUPANCY'].shift(6)\n",
    "data2['STAND_OCCUPANCY_60'] =  data2['STAND_OCCUPANCY'].shift(12)\n",
    "data2 = data2.dropna(subset=['STAND_OCCUPANCY_10','STAND_OCCUPANCY_30','STAND_OCCUPANCY_60'])"
   ]
  },
  {
   "cell_type": "code",
   "execution_count": 81,
   "metadata": {},
   "outputs": [
    {
     "name": "stdout",
     "output_type": "stream",
     "text": [
      "(20363, 15)\n"
     ]
    }
   ],
   "source": [
    "print(data2.shape)"
   ]
  },
  {
   "cell_type": "code",
   "execution_count": 82,
   "metadata": {},
   "outputs": [],
   "source": [
    "data1.to_csv('stand_97.csv')\n",
    "data2.to_csv('stand_9.csv')"
   ]
  }
 ],
 "metadata": {
  "interpreter": {
   "hash": "07ce2847134982c4aa7d5631e593aa660f90bde5ebee6a3c6ff041dc95165ded"
  },
  "kernelspec": {
   "display_name": "Python 3.7.2 64-bit ('base': conda)",
   "language": "python",
   "name": "python3"
  },
  "language_info": {
   "codemirror_mode": {
    "name": "ipython",
    "version": 3
   },
   "file_extension": ".py",
   "mimetype": "text/x-python",
   "name": "python",
   "nbconvert_exporter": "python",
   "pygments_lexer": "ipython3",
   "version": "3.9.7"
  },
  "orig_nbformat": 4
 },
 "nbformat": 4,
 "nbformat_minor": 2
}
